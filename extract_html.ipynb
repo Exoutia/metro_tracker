{
 "cells": [
  {
   "cell_type": "code",
   "execution_count": 2,
   "metadata": {},
   "outputs": [
    {
     "name": "stdout",
     "output_type": "stream",
     "text": [
      "None\n",
      "None\n",
      "None\n",
      "None\n",
      "['font_12px']\n",
      "None\n",
      "['font_12px']\n",
      "['font_12px']\n",
      "None\n",
      "None\n",
      "None\n",
      "None\n",
      "None\n",
      "None\n",
      "None\n",
      "None\n",
      "['MsoNormalTable']\n",
      "['MsoNormalTable']\n",
      "['MsoNormalTable']\n",
      "['MsoNormalTable']\n",
      "['MsoNormalTable']\n",
      "None\n",
      "['font_10px']\n",
      "['news']\n"
     ]
    }
   ],
   "source": [
    "import requests\n",
    "import pandas as pd\n",
    "from bs4 import BeautifulSoup\n",
    "\n",
    "url = \"https://mtp.indianrailways.gov.in/view_section.jsp?fontColor=black&backgroundColor=LIGHTSTEELBLUE&lang=0&id=0,2,630\"\n",
    "data = requests.get(url).text\n",
    "# creating the soup object\n",
    "soup = BeautifulSoup(data, 'html.parser')\n",
    "for table in soup.find_all('table'):\n",
    "    print(table.get('class'))"
   ]
  },
  {
   "cell_type": "code",
   "execution_count": 3,
   "metadata": {},
   "outputs": [],
   "source": [
    "timing_tables_list = soup.find('table', class_='MsoNoramlTable')"
   ]
  },
  {
   "cell_type": "code",
   "execution_count": 4,
   "metadata": {},
   "outputs": [],
   "source": [
    "# creating the data frame from the tables we got\n",
    "df_list = pd.read_html(url, attrs={'class': 'MsoNormalTable'}, flavor='bs4', thousands='.')"
   ]
  },
  {
   "cell_type": "code",
   "execution_count": 5,
   "metadata": {},
   "outputs": [],
   "source": [
    "# the two list we need for timings are last and second last\n",
    "# according to the site we have two tables which are showing the timing of metro of that station \n",
    "# so whenever we are seeing the table we need to look both table and find where we are trains are going.\n",
    "sectorV_to_sealdah_df = df_list[-1]\n",
    "sealdah_to_sectorV_df = df_list[-2]\n",
    "sealdah_to_sectorV_df = sealdah_to_sectorV_df.drop(0)\n",
    "sectorV_to_sealdah_df = sectorV_to_sealdah_df.drop(0)\n"
   ]
  },
  {
   "cell_type": "code",
   "execution_count": 6,
   "metadata": {},
   "outputs": [],
   "source": [
    "sealdah_to_sectorV_csv = sealdah_to_sectorV_df.to_csv('timings/sealdah_to_sectorV.csv', index=False)\n",
    "sectorV_to_sealdah_csv = sectorV_to_sealdah_df.to_csv('timings/sectorV_to_sealdah.csv', index=False)"
   ]
  },
  {
   "cell_type": "code",
   "execution_count": null,
   "metadata": {},
   "outputs": [],
   "source": []
  },
  {
   "cell_type": "markdown",
   "metadata": {},
   "source": []
  }
 ],
 "metadata": {
  "kernelspec": {
   "display_name": "Python 3",
   "language": "python",
   "name": "python3"
  },
  "language_info": {
   "codemirror_mode": {
    "name": "ipython",
    "version": 3
   },
   "file_extension": ".py",
   "mimetype": "text/x-python",
   "name": "python",
   "nbconvert_exporter": "python",
   "pygments_lexer": "ipython3",
   "version": "3.10.8"
  },
  "orig_nbformat": 4,
  "vscode": {
   "interpreter": {
    "hash": "e7370f93d1d0cde622a1f8e1c04877d8463912d04d973331ad4851f04de6915a"
   }
  }
 },
 "nbformat": 4,
 "nbformat_minor": 2
}
